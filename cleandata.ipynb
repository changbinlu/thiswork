{
 "cells": [
  {
   "cell_type": "code",
   "execution_count": 1,
   "metadata": {
    "collapsed": true
   },
   "outputs": [],
   "source": [
    "import MySQLdb as sql\n",
    "import pandas as pd\n",
    "from __future__ import division"
   ]
  },
  {
   "cell_type": "code",
   "execution_count": 3,
   "metadata": {},
   "outputs": [
    {
     "data": {
      "text/plain": [
       "276900"
      ]
     },
     "execution_count": 3,
     "metadata": {},
     "output_type": "execute_result"
    }
   ],
   "source": [
    "db_connection = sql.connect(host='localhost', db='zhihu', user='root', passwd='123', charset = 'utf8')\n",
    "\n",
    "df = pd.read_sql('SELECT  * FROM final where topic1 != \"null\" ', con=db_connection)\n",
    "total = df.shape[0]\n",
    "total"
   ]
  },
  {
   "cell_type": "markdown",
   "metadata": {},
   "source": [
    "# User has five following topic"
   ]
  },
  {
   "cell_type": "code",
   "execution_count": 3,
   "metadata": {},
   "outputs": [
    {
     "data": {
      "text/plain": [
       "0.08083983938012977"
      ]
     },
     "execution_count": 3,
     "metadata": {},
     "output_type": "execute_result"
    }
   ],
   "source": [
    "\n",
    "# df = pd.read_sql('SELECT  * FROM final where topic1 like \"%摄影%\" or topic2 like \"%摄影%\" or topic3 like \"%摄影%\" or topic4 like \"%摄影%\" or topic5 like \"%摄影%\" ', con=db_connection)\n",
    "\n",
    "# # df = pd.read_sql('SELECT  * FROM final where topic1 = \"摄影\" ', con=db_connection)\n",
    "\n",
    "# # df = pd.read_sql('SELECT  * FROM final where topic1 like \"%单反%\" or topic2 like \"%单反%\" or topic3 like \"%单反%\" or topic4 like \"%单反%\" or topic5 like \"%单反%\" ', con=db_connection)\n",
    "\n",
    "df = pd.read_sql('SELECT  * FROM final where topic1 like \"%单反%\" or topic2 like \"%单反%\" or topic3 like \"%单反%\" or topic4 like \"%单反%\" or topic5 like \"%单反%\" or topic1 like \"%摄影%\" or topic2 like \"%摄影%\" or topic3 like \"%摄影%\" or topic4 like \"%摄影%\" or topic5 like \"%摄影%\" ', con=db_connection)\n",
    "\n",
    "df.shape[0]/total"
   ]
  },
  {
   "cell_type": "code",
   "execution_count": 14,
   "metadata": {},
   "outputs": [
    {
     "data": {
      "text/plain": [
       "0.08205178214442439"
      ]
     },
     "execution_count": 14,
     "metadata": {},
     "output_type": "execute_result"
    }
   ],
   "source": [
    "df = pd.read_sql('SELECT  * FROM final where topic1 like \"%单反%\" or topic2 like \"%单反%\" or topic3 like \"%单反%\" or topic4 like \"%单反%\" or topic5 like \"%单反%\" or topic1 like \"%摄影%\" or topic2 like \"%摄影%\" or topic3 like \"%摄影%\" or topic4 like \"%摄影%\" or topic5 like \"%摄影%\" ', con=db_connection)\n",
    "\n",
    "df.shape[0]/total"
   ]
  },
  {
   "cell_type": "code",
   "execution_count": 2,
   "metadata": {},
   "outputs": [
    {
     "name": "stdout",
     "output_type": "stream",
     "text": [
      "生活 : 0.173\n",
      "电影 : 0.172\n",
      "互联网 : 0.115\n",
      "自然科学 : 0.112\n",
      "摄影 : 0.083\n",
      "职业发展 : 0.067\n",
      "心理学 : 0.079\n",
      "历史 : 0.061\n",
      "文学 : 0.083\n",
      "美食 : 0.057\n",
      "音乐 : 0.072\n",
      "体育 : 0.060\n",
      "游戏 : 0.060\n",
      "医学 : 0.034\n",
      "健身 : 0.049\n",
      "法律 : 0.034\n",
      "旅行 : 0.044\n",
      "调查类问题 : 0.020\n",
      "生活方式 : 0.037\n",
      "汽车 : 0.025\n"
     ]
    }
   ],
   "source": [
    "db_connection = sql.connect(host='localhost', db='zhihu', user='root', passwd='123', charset = 'utf8')\n",
    "\n",
    "df = pd.read_sql('SELECT  * FROM final where topic1 != \"null\" ', con=db_connection)\n",
    "total = df.shape[0]\n",
    "t = ['生活','电影','互联网','自然科学','摄影',\n",
    "    '职业发展','心理学','历史','文学','美食',\n",
    "     '音乐','体育','游戏','医学','健身',\n",
    "     '法律','旅行','调查类问题','生活方式','汽车'\n",
    "    ]\n",
    "result = []\n",
    "score = [0]*20\n",
    "for i in range(20):\n",
    "    sql = 'SELECT  * FROM final where topic1 like \"%'+ t[i] + '%\" or topic2 like \"%' + t[i] + '%\" or topic3 like \"%'+ t[i] + '%\" or topic4 like \"%'+ t[i] + '%\" or topic5 like \"%'+ t[i] + '%\"'\n",
    "    df = pd.read_sql(sql, con=db_connection)\n",
    "    score[i] = df.shape[0]/total\n",
    "    if(t[i] == '摄影'):\n",
    "        df = pd.read_sql('SELECT  * FROM final where topic1 like \"%单反%\" or topic2 like \"%单反%\" or topic3 like \"%单反%\" or topic4 like \"%单反%\" or topic5 like \"%单反%\" or topic1 like \"%摄影%\" or topic2 like \"%摄影%\" or topic3 like \"%摄影%\" or topic4 like \"%摄影%\" or topic5 like \"%摄影%\" ', con=db_connection)\n",
    "        score[i] = df.shape[0]/total\n",
    "    print \"%s : %.3f\"%(t[i],score[i])\n"
   ]
  },
  {
   "cell_type": "code",
   "execution_count": 8,
   "metadata": {
    "collapsed": true
   },
   "outputs": [],
   "source": [
    "df = pd.read_sql('SELECT  * FROM final where education != \"null\" ', con=db_connection)\n",
    "total = df.shape[0]\n",
    "df = pd.read_sql('SELECT  * FROM final where topic1 like \"%单反%\" or topic2 like \"%单反%\" or topic3 like \"%单反%\" or topic4 like \"%单反%\" or topic5 like \"%单反%\" or topic1 like \"%摄影%\" or topic2 like \"%摄影%\" or topic3 like \"%摄影%\" or topic4 like \"%摄影%\" or topic5 like \"%摄影%\" ', con=db_connection)"
   ]
  },
  {
   "cell_type": "code",
   "execution_count": 7,
   "metadata": {},
   "outputs": [
    {
     "data": {
      "text/plain": [
       "education\n",
       "北京大学              0.007028\n",
       "清华大学              0.006885\n",
       "浙江大学              0.004016\n",
       "复旦大学              0.003586\n",
       "武汉大学              0.003251\n",
       "同济大学              0.003060\n",
       "上海交通大学            0.002964\n",
       "中山大学（SYSU）        0.002964\n",
       "中国传媒大学            0.002869\n",
       "普通高校本科层次（大学本科）    0.002869\n",
       "华中科技大学            0.002773\n",
       "南京大学              0.002678\n",
       "大学                0.002678\n",
       "北京电影学院            0.002486\n",
       "四川大学              0.002391\n",
       "中国人民大学            0.002247\n",
       "厦门大学              0.002008\n",
       "哈尔滨工业大学（HIT）      0.001865\n",
       "本科                0.001721\n",
       "南开大学              0.001673\n",
       "dtype: float64"
      ]
     },
     "execution_count": 7,
     "metadata": {},
     "output_type": "execute_result"
    }
   ],
   "source": [
    "df = pd.read_sql('SELECT  * FROM final where topic1 like \"%单反%\" or topic2 like \"%单反%\" or topic3 like \"%单反%\" or topic4 like \"%单反%\" or topic5 like \"%单反%\" or topic1 like \"%摄影%\" or topic2 like \"%摄影%\" or topic3 like \"%摄影%\" or topic4 like \"%摄影%\" or topic5 like \"%摄影%\" ', con=db_connection)\n",
    "total = df.shape[0]\n",
    "df.groupby(['education']).size().nlargest(20)/total"
   ]
  },
  {
   "cell_type": "markdown",
   "metadata": {},
   "source": [
    "# Male Female"
   ]
  },
  {
   "cell_type": "code",
   "execution_count": 10,
   "metadata": {},
   "outputs": [
    {
     "data": {
      "text/plain": [
       "sex\n",
       "male      8669\n",
       "female    8547\n",
       "dtype: int64"
      ]
     },
     "execution_count": 10,
     "metadata": {},
     "output_type": "execute_result"
    }
   ],
   "source": [
    "df = pd.read_sql('SELECT  * FROM final where topic1 like \"%单反%\" or topic2 like \"%单反%\" or topic3 like \"%单反%\" or topic4 like \"%单反%\" or topic5 like \"%单反%\" or topic1 like \"%摄影%\" or topic2 like \"%摄影%\" or topic3 like \"%摄影%\" or topic4 like \"%摄影%\" or topic5 like \"%摄影%\" ', con=db_connection)\n",
    "total = df.shape[0]\n",
    "df.groupby(['sex']).size().nlargest(2)"
   ]
  },
  {
   "cell_type": "code",
   "execution_count": 11,
   "metadata": {},
   "outputs": [
    {
     "data": {
      "text/plain": [
       "20915"
      ]
     },
     "execution_count": 11,
     "metadata": {},
     "output_type": "execute_result"
    }
   ],
   "source": [
    "total"
   ]
  },
  {
   "cell_type": "markdown",
   "metadata": {},
   "source": [
    "# Business\n"
   ]
  },
  {
   "cell_type": "code",
   "execution_count": 9,
   "metadata": {},
   "outputs": [
    {
     "data": {
      "text/plain": [
       "business\n",
       "互联网      0.090844\n",
       "创意艺术     0.029931\n",
       "计算机软件    0.020416\n",
       "金融       0.014153\n",
       "高等教育     0.013435\n",
       "信息传媒     0.010853\n",
       "高新科技     0.009515\n",
       "广播电视     0.008941\n",
       "电子商务     0.008367\n",
       "法律       0.008033\n",
       "地产建筑     0.007268\n",
       "广告       0.007268\n",
       "科研       0.007172\n",
       "汽车       0.006598\n",
       "艺术娱乐     0.006455\n",
       "临床医疗     0.006216\n",
       "教育       0.006216\n",
       "电子游戏     0.005451\n",
       "财务       0.005116\n",
       "房地产      0.004686\n",
       "dtype: float64"
      ]
     },
     "execution_count": 9,
     "metadata": {},
     "output_type": "execute_result"
    }
   ],
   "source": [
    "df = pd.read_sql('SELECT  * FROM final where topic1 like \"%单反%\" or topic2 like \"%单反%\" or topic3 like \"%单反%\" or topic4 like \"%单反%\" or topic5 like \"%单反%\" or topic1 like \"%摄影%\" or topic2 like \"%摄影%\" or topic3 like \"%摄影%\" or topic4 like \"%摄影%\" or topic5 like \"%摄影%\" ', con=db_connection)\n",
    "total = df.shape[0]\n",
    "df.groupby(['business']).size().nlargest(20)/total"
   ]
  },
  {
   "cell_type": "markdown",
   "metadata": {},
   "source": [
    "# location"
   ]
  },
  {
   "cell_type": "code",
   "execution_count": 15,
   "metadata": {},
   "outputs": [
    {
     "data": {
      "text/plain": [
       "location\n",
       "北京     0.089840\n",
       "上海     0.054984\n",
       "杭州     0.020655\n",
       "成都     0.014009\n",
       "广州     0.012909\n",
       "深圳市    0.011475\n",
       "深圳     0.010614\n",
       "南京     0.009706\n",
       "武汉     0.008893\n",
       "广州市    0.008845\n",
       "西安     0.007124\n",
       "美国     0.005785\n",
       "重庆     0.005403\n",
       "香港     0.005164\n",
       "天津     0.004447\n",
       "长沙     0.004447\n",
       "厦门     0.004351\n",
       "苏州     0.003634\n",
       "纽约     0.003443\n",
       "东京     0.002773\n",
       "dtype: float64"
      ]
     },
     "execution_count": 15,
     "metadata": {},
     "output_type": "execute_result"
    }
   ],
   "source": [
    "df = pd.read_sql('SELECT  * FROM final where topic1 like \"%单反%\" or topic2 like \"%单反%\" or topic3 like \"%单反%\" or topic4 like \"%单反%\" or topic5 like \"%单反%\" or topic1 like \"%摄影%\" or topic2 like \"%摄影%\" or topic3 like \"%摄影%\" or topic4 like \"%摄影%\" or topic5 like \"%摄影%\" ', con=db_connection)\n",
    "total = df.shape[0]\n",
    "df.groupby(['location']).size().nlargest(20)/total"
   ]
  },
  {
   "cell_type": "markdown",
   "metadata": {},
   "source": [
    "# Company"
   ]
  },
  {
   "cell_type": "code",
   "execution_count": 16,
   "metadata": {},
   "outputs": [
    {
     "data": {
      "text/plain": [
       "employment\n",
       "学生               0.002486\n",
       "腾讯               0.002152\n",
       "百度               0.001626\n",
       "阿里巴巴集团           0.001339\n",
       "自由职业             0.000861\n",
       "摄影师              0.000717\n",
       "谷歌 (Google)      0.000717\n",
       "互联网              0.000622\n",
       "Facebook         0.000526\n",
       "微软（Microsoft）    0.000526\n",
       "网易               0.000526\n",
       "摄影               0.000430\n",
       "知乎               0.000430\n",
       "银行               0.000430\n",
       "华为               0.000383\n",
       "微信               0.000383\n",
       "微软亚洲研究院          0.000335\n",
       "无业游民             0.000335\n",
       "滴滴出行             0.000335\n",
       "某公司              0.000287\n",
       "dtype: float64"
      ]
     },
     "execution_count": 16,
     "metadata": {},
     "output_type": "execute_result"
    }
   ],
   "source": [
    "df = pd.read_sql('SELECT  * FROM final where topic1 like \"%单反%\" or topic2 like \"%单反%\" or topic3 like \"%单反%\" or topic4 like \"%单反%\" or topic5 like \"%单反%\" or topic1 like \"%摄影%\" or topic2 like \"%摄影%\" or topic3 like \"%摄影%\" or topic4 like \"%摄影%\" or topic5 like \"%摄影%\" ', con=db_connection)\n",
    "total = df.shape[0]\n",
    "df.groupby(['employment']).size().nlargest(20)/total"
   ]
  },
  {
   "cell_type": "code",
   "execution_count": 2,
   "metadata": {},
   "outputs": [
    {
     "data": {
      "text/plain": [
       "topic1\n",
       "生活       0.055190\n",
       "电影       0.034907\n",
       "互联网      0.022371\n",
       "职业发展     0.021942\n",
       "自然科学     0.019055\n",
       "历史       0.017319\n",
       "心理学      0.016237\n",
       "文学       0.014550\n",
       "美食       0.014540\n",
       "摄影       0.014428\n",
       "音乐       0.012794\n",
       "体育       0.012390\n",
       "医学       0.011380\n",
       "游戏       0.011327\n",
       "健身       0.010722\n",
       "法律       0.009820\n",
       "生活方式     0.009537\n",
       "旅行       0.009133\n",
       "调查类问题    0.009016\n",
       "汽车       0.008772\n",
       "dtype: float64"
      ]
     },
     "execution_count": 2,
     "metadata": {},
     "output_type": "execute_result"
    }
   ],
   "source": [
    "\n",
    "df.groupby(['topic1']).size().nlargest(20)/df.shape[0]"
   ]
  },
  {
   "cell_type": "code",
   "execution_count": null,
   "metadata": {
    "collapsed": true
   },
   "outputs": [],
   "source": [
    "\n"
   ]
  },
  {
   "cell_type": "code",
   "execution_count": 6,
   "metadata": {},
   "outputs": [
    {
     "data": {
      "text/html": [
       "<div>\n",
       "<style>\n",
       "    .dataframe thead tr:only-child th {\n",
       "        text-align: right;\n",
       "    }\n",
       "\n",
       "    .dataframe thead th {\n",
       "        text-align: left;\n",
       "    }\n",
       "\n",
       "    .dataframe tbody tr th {\n",
       "        vertical-align: top;\n",
       "    }\n",
       "</style>\n",
       "<table border=\"1\" class=\"dataframe\">\n",
       "  <thead>\n",
       "    <tr style=\"text-align: right;\">\n",
       "      <th></th>\n",
       "      <th>id</th>\n",
       "      <th>agrees</th>\n",
       "      <th>thanks</th>\n",
       "      <th>asks</th>\n",
       "      <th>answers</th>\n",
       "      <th>posts</th>\n",
       "      <th>followees</th>\n",
       "      <th>followers</th>\n",
       "    </tr>\n",
       "  </thead>\n",
       "  <tbody>\n",
       "    <tr>\n",
       "      <th>count</th>\n",
       "      <td>276900.000000</td>\n",
       "      <td>2.769000e+05</td>\n",
       "      <td>276900.000000</td>\n",
       "      <td>276900.0</td>\n",
       "      <td>276900.000000</td>\n",
       "      <td>276900.000000</td>\n",
       "      <td>276900.000000</td>\n",
       "      <td>2.769000e+05</td>\n",
       "    </tr>\n",
       "    <tr>\n",
       "      <th>mean</th>\n",
       "      <td>147051.605536</td>\n",
       "      <td>2.121466e+03</td>\n",
       "      <td>426.319397</td>\n",
       "      <td>11.0</td>\n",
       "      <td>45.011416</td>\n",
       "      <td>1.915005</td>\n",
       "      <td>138.178014</td>\n",
       "      <td>8.854468e+02</td>\n",
       "    </tr>\n",
       "    <tr>\n",
       "      <th>std</th>\n",
       "      <td>85250.821411</td>\n",
       "      <td>1.590323e+04</td>\n",
       "      <td>3120.315235</td>\n",
       "      <td>0.0</td>\n",
       "      <td>168.750578</td>\n",
       "      <td>17.372503</td>\n",
       "      <td>373.001862</td>\n",
       "      <td>9.611942e+03</td>\n",
       "    </tr>\n",
       "    <tr>\n",
       "      <th>min</th>\n",
       "      <td>1.000000</td>\n",
       "      <td>0.000000e+00</td>\n",
       "      <td>0.000000</td>\n",
       "      <td>11.0</td>\n",
       "      <td>0.000000</td>\n",
       "      <td>0.000000</td>\n",
       "      <td>0.000000</td>\n",
       "      <td>1.000000e+00</td>\n",
       "    </tr>\n",
       "    <tr>\n",
       "      <th>25%</th>\n",
       "      <td>73251.750000</td>\n",
       "      <td>1.000000e+00</td>\n",
       "      <td>0.000000</td>\n",
       "      <td>11.0</td>\n",
       "      <td>1.000000</td>\n",
       "      <td>0.000000</td>\n",
       "      <td>12.000000</td>\n",
       "      <td>7.000000e+00</td>\n",
       "    </tr>\n",
       "    <tr>\n",
       "      <th>50%</th>\n",
       "      <td>146867.500000</td>\n",
       "      <td>4.800000e+01</td>\n",
       "      <td>12.000000</td>\n",
       "      <td>11.0</td>\n",
       "      <td>9.000000</td>\n",
       "      <td>0.000000</td>\n",
       "      <td>44.000000</td>\n",
       "      <td>3.600000e+01</td>\n",
       "    </tr>\n",
       "    <tr>\n",
       "      <th>75%</th>\n",
       "      <td>220768.250000</td>\n",
       "      <td>5.420000e+02</td>\n",
       "      <td>124.000000</td>\n",
       "      <td>11.0</td>\n",
       "      <td>35.000000</td>\n",
       "      <td>0.000000</td>\n",
       "      <td>128.000000</td>\n",
       "      <td>1.830000e+02</td>\n",
       "    </tr>\n",
       "    <tr>\n",
       "      <th>max</th>\n",
       "      <td>295259.000000</td>\n",
       "      <td>1.452877e+06</td>\n",
       "      <td>332616.000000</td>\n",
       "      <td>11.0</td>\n",
       "      <td>17834.000000</td>\n",
       "      <td>1591.000000</td>\n",
       "      <td>43920.000000</td>\n",
       "      <td>1.010733e+06</td>\n",
       "    </tr>\n",
       "  </tbody>\n",
       "</table>\n",
       "</div>"
      ],
      "text/plain": [
       "                  id        agrees         thanks      asks        answers  \\\n",
       "count  276900.000000  2.769000e+05  276900.000000  276900.0  276900.000000   \n",
       "mean   147051.605536  2.121466e+03     426.319397      11.0      45.011416   \n",
       "std     85250.821411  1.590323e+04    3120.315235       0.0     168.750578   \n",
       "min         1.000000  0.000000e+00       0.000000      11.0       0.000000   \n",
       "25%     73251.750000  1.000000e+00       0.000000      11.0       1.000000   \n",
       "50%    146867.500000  4.800000e+01      12.000000      11.0       9.000000   \n",
       "75%    220768.250000  5.420000e+02     124.000000      11.0      35.000000   \n",
       "max    295259.000000  1.452877e+06  332616.000000      11.0   17834.000000   \n",
       "\n",
       "               posts      followees     followers  \n",
       "count  276900.000000  276900.000000  2.769000e+05  \n",
       "mean        1.915005     138.178014  8.854468e+02  \n",
       "std        17.372503     373.001862  9.611942e+03  \n",
       "min         0.000000       0.000000  1.000000e+00  \n",
       "25%         0.000000      12.000000  7.000000e+00  \n",
       "50%         0.000000      44.000000  3.600000e+01  \n",
       "75%         0.000000     128.000000  1.830000e+02  \n",
       "max      1591.000000   43920.000000  1.010733e+06  "
      ]
     },
     "execution_count": 6,
     "metadata": {},
     "output_type": "execute_result"
    }
   ],
   "source": [
    "df.describe()"
   ]
  },
  {
   "cell_type": "code",
   "execution_count": null,
   "metadata": {
    "collapsed": true
   },
   "outputs": [],
   "source": []
  }
 ],
 "metadata": {
  "kernelspec": {
   "display_name": "Python 2",
   "language": "python",
   "name": "python2"
  },
  "language_info": {
   "codemirror_mode": {
    "name": "ipython",
    "version": 2
   },
   "file_extension": ".py",
   "mimetype": "text/x-python",
   "name": "python",
   "nbconvert_exporter": "python",
   "pygments_lexer": "ipython2",
   "version": "2.7.13"
  }
 },
 "nbformat": 4,
 "nbformat_minor": 2
}
