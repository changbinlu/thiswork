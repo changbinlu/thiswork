{
 "cells": [
  {
   "cell_type": "code",
   "execution_count": 1,
   "metadata": {},
   "outputs": [
    {
     "name": "stdout",
     "output_type": "stream",
     "text": [
      "<zhihu_oauth.zhcls.generator.TopicGenerator object at 0x7fe094557f90>\n"
     ]
    }
   ],
   "source": [
    "# coding=utf-8\n",
    "\n",
    "from __future__ import unicode_literals, print_function\n",
    "\n",
    "import os\n",
    "\n",
    "from zhihu_oauth import ZhihuClient\n",
    "\n",
    "\n",
    "TOKEN_FILE = 'token.pkl'\n",
    "\n",
    "\n",
    "client = ZhihuClient()\n",
    "\n",
    "if os.path.isfile(TOKEN_FILE):\n",
    "    client.load_token(TOKEN_FILE)\n",
    "else:\n",
    "    client.login_in_terminal()\n",
    "    client.save_token(TOKEN_FILE)\n",
    "\n",
    "author = client.from_url('http://www.zhihu.com/people/wang-yi-yun-yin-yue')\n"
   ]
  },
  {
   "cell_type": "code",
   "execution_count": 4,
   "metadata": {},
   "outputs": [
    {
     "name": "stdout",
     "output_type": "stream",
     "text": [
      "摄影\n",
      "摄影技巧\n",
      "摄影师\n",
      "单反相机\n",
      "摄影器材\n",
      "手机摄影\n",
      "相机\n",
      "商业摄影\n",
      "Adobe Photoshop\n",
      "单反镜头\n",
      "摄影入门\n",
      "艺术\n",
      "镜头\n",
      "电影\n",
      "旅行\n",
      "设计\n",
      "教育\n",
      "大画幅相机\n",
      "历史\n",
      "美食\n",
      "互联网\n",
      "时尚\n",
      "心理学\n",
      "法律\n",
      "创业\n",
      "经济学\n",
      "商业\n",
      "建筑\n",
      "自然科学\n",
      "宅\n",
      "中画幅相机\n",
      "科技\n",
      "日本\n",
      "天秤座\n",
      "职业发展\n",
      "体育\n",
      "健身\n",
      "医学\n",
      "强迫症\n",
      "处女座\n",
      "家居\n",
      "汽车\n",
      "权力的游戏（美剧）\n",
      "相机改造\n",
      "vczh（知乎用户）\n",
      "金融\n",
      "环境\n",
      "日本人\n",
      "广告摄影\n",
      "模型\n"
     ]
    }
   ],
   "source": [
    "topic = author.following_topics\n",
    "for t in topic:\n",
    "    print (t.name)"
   ]
  },
  {
   "cell_type": "code",
   "execution_count": null,
   "metadata": {
    "collapsed": true
   },
   "outputs": [],
   "source": []
  }
 ],
 "metadata": {
  "kernelspec": {
   "display_name": "Python 2",
   "language": "python",
   "name": "python2"
  },
  "language_info": {
   "codemirror_mode": {
    "name": "ipython",
    "version": 2
   },
   "file_extension": ".py",
   "mimetype": "text/x-python",
   "name": "python",
   "nbconvert_exporter": "python",
   "pygments_lexer": "ipython2",
   "version": "2.7.13"
  }
 },
 "nbformat": 4,
 "nbformat_minor": 2
}
