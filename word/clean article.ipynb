{
 "cells": [
  {
   "cell_type": "code",
   "execution_count": 1,
   "metadata": {
    "collapsed": true,
    "scrolled": true
   },
   "outputs": [],
   "source": [
    "from nltk.tokenize import word_tokenize\n",
    "from nltk.corpus import stopwords\n",
    "import string\n",
    "stop_words = set(stopwords.words(\"english\"))"
   ]
  },
  {
   "cell_type": "code",
   "execution_count": 7,
   "metadata": {},
   "outputs": [
    {
     "data": {
      "text/plain": [
       "['This', 'sample', 'sentence', 'showing', 'stop', 'words', 'filtration']"
      ]
     },
     "execution_count": 7,
     "metadata": {},
     "output_type": "execute_result"
    }
   ],
   "source": [
    "example_sent = \"This is a sample sentence, showing off the stop words filtration.\"\n",
    "example_words = word_tokenize(example_sent)\n",
    "example_words = filter(lambda x: x not in string.punctuation, example_words)\n",
    "cleaned_text = filter(lambda x: x not in stop_words, example_words)\n",
    "cleaned_text"
   ]
  },
  {
   "cell_type": "code",
   "execution_count": 5,
   "metadata": {
    "collapsed": true
   },
   "outputs": [],
   "source": [
    "import io\n",
    "import re\n",
    "import nltk\n",
    "import chardet\n",
    "from nltk.tokenize import word_tokenize\n",
    "from nltk.corpus import stopwords\n",
    "import string\n",
    "import sys\n",
    "stop_words = set(stopwords.words(\"english\"))\n",
    "\n",
    "from nltk.stem import WordNetLemmatizer\n",
    "def str_tuple(t, encoding=\"utf8\"):\n",
    "    return tuple([i.encode(encoding) for i in t])\n",
    "def hasNumbers(inputString):\n",
    "    return bool(re.search(r'\\d', inputString))\n",
    "def freq(line_split):\n",
    "    fredist = nltk.FreqDist(line_split)\n",
    "    for localkey in fredist.keys():\n",
    "        encoding = chardet.detect(localkey)\n",
    "        if encoding['encoding'] != 'ascii':\n",
    "            continue\n",
    "        localkey = lmtzr.lemmatize(localkey)\n",
    "        if localkey in dictionary.keys():\n",
    "            dictionary[localkey] = dictionary[localkey] + fredist[localkey] # 如果存在，将词频累加，并更新字典值\n",
    "        else: # 如果字典中不存在\n",
    "            dictionary[localkey] = fredist[localkey] # 将当前词频添加到字典中\n",
    "    \n",
    "lemmatizer = WordNetLemmatizer()\n",
    "punctuation = [\"''\",\"``\",\"I\",\"My\",\"A\",'may','Get','The','It','one','get','one','This','If','In','see',\n",
    "              'like','much','use','using','also','need','go','We','often','many','first','You','best',\n",
    "               'would','make','want','way','even','still','As']\n",
    "f = io.open('nature.txt','r',encoding='utf-8')\n",
    "lines = f.readlines()\n",
    "lmtzr = WordNetLemmatizer()\n",
    "# f1 = io.open('nature_result.txt','w')\n",
    "dictionary = {}    \n",
    "for line in lines:\n",
    "    example_words = word_tokenize(line.lower())\n",
    "    example_words = filter(lambda x: x not in string.punctuation, example_words)\n",
    "    example_words = filter(lambda x: x not in punctuation, example_words)\n",
    "    cleaned_text = filter(lambda x: x not in stop_words, example_words)\n",
    "    cleaned_text = filter(lambda x: hasNumbers(x)!=True, cleaned_text)\n",
    "#     cleaned_text = filter(lambda x: \"'\\'\" not in x, cleaned_text)\n",
    "#     if len( cleaned_text)==0:\n",
    "#         continue;\n",
    "#     print(str_tuple( cleaned_text))\n",
    "    freq(str_tuple( cleaned_text))\n",
    "\n",
    "# print (sorted(dictionary.items(), key = lambda  x:x[1],reverse=True)) # 根据词频字典值排序，并打印"
   ]
  },
  {
   "cell_type": "code",
   "execution_count": null,
   "metadata": {
    "collapsed": true
   },
   "outputs": [],
   "source": []
  },
  {
   "cell_type": "code",
   "execution_count": 96,
   "metadata": {},
   "outputs": [
    {
     "data": {
      "text/plain": [
       "'going'"
      ]
     },
     "execution_count": 96,
     "metadata": {},
     "output_type": "execute_result"
    }
   ],
   "source": [
    "lmtzr.lemmatize(\"going\")"
   ]
  },
  {
   "cell_type": "code",
   "execution_count": null,
   "metadata": {
    "collapsed": true
   },
   "outputs": [],
   "source": []
  },
  {
   "cell_type": "code",
   "execution_count": 1,
   "metadata": {
    "collapsed": true
   },
   "outputs": [],
   "source": [
    "from nltk.corpus import stopwords\n",
    "\n",
    "stop_words = set(stopwords.words(\"english\"))"
   ]
  },
  {
   "cell_type": "code",
   "execution_count": 6,
   "metadata": {},
   "outputs": [
    {
     "name": "stdout",
     "output_type": "stream",
     "text": [
      "0\n",
      "1\n",
      "2\n",
      "3\n",
      "4\n",
      "5\n",
      "6\n",
      "7\n",
      "8\n",
      "9\n",
      "10\n",
      "11\n",
      "12\n",
      "13\n",
      "14\n",
      "15\n",
      "16\n",
      "17\n",
      "18\n",
      "19\n",
      "20\n",
      "21\n",
      "22\n",
      "23\n",
      "24\n",
      "25\n",
      "26\n",
      "27\n",
      "28\n",
      "29\n",
      "30\n",
      "31\n",
      "32\n",
      "33\n",
      "34\n",
      "35\n",
      "36\n",
      "37\n",
      "38\n",
      "water has no Synonyms in the API\n"
     ]
    },
    {
     "ename": "TypeError",
     "evalue": "object of type 'NoneType' has no len()",
     "output_type": "error",
     "traceback": [
      "\u001b[0;31m---------------------------------------------------------------------------\u001b[0m",
      "\u001b[0;31mTypeError\u001b[0m                                 Traceback (most recent call last)",
      "\u001b[0;32m<ipython-input-6-ba35266cc52f>\u001b[0m in \u001b[0;36m<module>\u001b[0;34m()\u001b[0m\n\u001b[1;32m      7\u001b[0m     \u001b[0;32mprint\u001b[0m\u001b[0;34m(\u001b[0m\u001b[0mindex\u001b[0m\u001b[0;34m)\u001b[0m\u001b[0;34m\u001b[0m\u001b[0m\n\u001b[1;32m      8\u001b[0m     \u001b[0mtemp\u001b[0m \u001b[0;34m=\u001b[0m \u001b[0mdictionary\u001b[0m\u001b[0;34m.\u001b[0m\u001b[0msynonym\u001b[0m\u001b[0;34m(\u001b[0m\u001b[0mdf\u001b[0m\u001b[0;34m[\u001b[0m\u001b[0;34m'word'\u001b[0m\u001b[0;34m]\u001b[0m\u001b[0;34m[\u001b[0m\u001b[0mindex\u001b[0m\u001b[0;34m]\u001b[0m\u001b[0;34m)\u001b[0m\u001b[0;34m\u001b[0m\u001b[0m\n\u001b[0;32m----> 9\u001b[0;31m     \u001b[0;32mif\u001b[0m \u001b[0mlen\u001b[0m\u001b[0;34m(\u001b[0m\u001b[0mtemp\u001b[0m\u001b[0;34m)\u001b[0m \u001b[0;34m==\u001b[0m \u001b[0;36m1\u001b[0m\u001b[0;34m:\u001b[0m\u001b[0;34m\u001b[0m\u001b[0m\n\u001b[0m\u001b[1;32m     10\u001b[0m             \u001b[0mf\u001b[0m\u001b[0;34m.\u001b[0m\u001b[0mwrite\u001b[0m\u001b[0;34m(\u001b[0m\u001b[0;34m'{},{},{}\\n'\u001b[0m\u001b[0;34m.\u001b[0m\u001b[0mformat\u001b[0m\u001b[0;34m(\u001b[0m\u001b[0mdf\u001b[0m\u001b[0;34m[\u001b[0m\u001b[0;34m'word'\u001b[0m\u001b[0;34m]\u001b[0m\u001b[0;34m[\u001b[0m\u001b[0mindex\u001b[0m\u001b[0;34m]\u001b[0m\u001b[0;34m,\u001b[0m\u001b[0mdf\u001b[0m\u001b[0;34m[\u001b[0m\u001b[0;34m'freq'\u001b[0m\u001b[0;34m]\u001b[0m\u001b[0;34m[\u001b[0m\u001b[0mindex\u001b[0m\u001b[0;34m]\u001b[0m\u001b[0;34m,\u001b[0m\u001b[0mtemp\u001b[0m\u001b[0;34m[\u001b[0m\u001b[0;36m0\u001b[0m\u001b[0;34m]\u001b[0m\u001b[0;34m.\u001b[0m\u001b[0mencode\u001b[0m\u001b[0;34m(\u001b[0m\u001b[0;34m'ascii'\u001b[0m\u001b[0;34m,\u001b[0m\u001b[0;34m'ignore'\u001b[0m\u001b[0;34m)\u001b[0m\u001b[0;34m)\u001b[0m\u001b[0;34m)\u001b[0m\u001b[0;34m\u001b[0m\u001b[0m\n\u001b[1;32m     11\u001b[0m     \u001b[0;32melif\u001b[0m \u001b[0mlen\u001b[0m\u001b[0;34m(\u001b[0m\u001b[0mtemp\u001b[0m\u001b[0;34m)\u001b[0m \u001b[0;34m==\u001b[0m \u001b[0;36m2\u001b[0m\u001b[0;34m:\u001b[0m\u001b[0;34m\u001b[0m\u001b[0m\n",
      "\u001b[0;31mTypeError\u001b[0m: object of type 'NoneType' has no len()"
     ]
    }
   ],
   "source": [
    "import pandas as pd\n",
    "from PyDictionary import PyDictionary\n",
    "dictionary=PyDictionary()\n",
    "df = pd.read_csv('nature_result.txt')\n",
    "f = open('nature_synonyms.txt','w')\n",
    "for index,row in df.iterrows(): \n",
    "    print(index)\n",
    "    temp = dictionary.synonym(df['word'][index])\n",
    "    if len(temp) == 1:\n",
    "            f.write('{},{},{}\\n'.format(df['word'][index],df['freq'][index],temp[0].encode('ascii','ignore')))\n",
    "    elif len(temp) == 2:\n",
    "            f.write('{},{},{},{}\\n'.format(df['word'][index],df['freq'][index],temp[0].encode('ascii','ignore'),temp[1].encode('ascii','ignore')))\n",
    "    elif len(temp) == 3:\n",
    "            f.write('{},{},{},{},{}\\n'.format(df['word'][index],df['freq'][index],temp[0].encode('ascii','ignore'),temp[1].encode('ascii','ignore'),temp[2].encode('ascii','ignore')))\n",
    "    elif len(temp) == 4:\n",
    "            f.write('{},{},{},{},{},{}\\n'.format(df['word'][index],df['freq'][index],temp[0].encode('ascii','ignore'),temp[1].encode('ascii','ignore'),temp[2].encode('ascii','ignore'),temp[3].encode('ascii','ignore')))\n",
    "    elif len(temp) == 5:\n",
    "            f.write('{},{},{},{},{},{},{}\\n'.format(df['word'][index],df['freq'][index],temp[0].encode('ascii','ignore'),temp[1].encode('ascii','ignore'),temp[2].encode('ascii','ignore'),temp[3].encode('ascii','ignore'),temp[4].encode('ascii','ignore')))\n",
    "\n",
    "f.close()"
   ]
  },
  {
   "cell_type": "code",
   "execution_count": 15,
   "metadata": {
    "collapsed": true
   },
   "outputs": [],
   "source": [
    "f = open('t.txt','w')\n",
    "f.write('{},{}'.format(df['word'][0],df['freq'][0]))\n",
    "f.close()"
   ]
  },
  {
   "cell_type": "code",
   "execution_count": 12,
   "metadata": {},
   "outputs": [
    {
     "data": {
      "text/plain": [
       "'image'"
      ]
     },
     "execution_count": 12,
     "metadata": {},
     "output_type": "execute_result"
    }
   ],
   "source": [
    "df['word'][0]"
   ]
  },
  {
   "cell_type": "code",
   "execution_count": null,
   "metadata": {
    "collapsed": true
   },
   "outputs": [],
   "source": [
    "data.iterrows()"
   ]
  },
  {
   "cell_type": "code",
   "execution_count": null,
   "metadata": {
    "collapsed": true
   },
   "outputs": [],
   "source": []
  }
 ],
 "metadata": {
  "kernelspec": {
   "display_name": "Python 2",
   "language": "python",
   "name": "python2"
  },
  "language_info": {
   "codemirror_mode": {
    "name": "ipython",
    "version": 2
   },
   "file_extension": ".py",
   "mimetype": "text/x-python",
   "name": "python",
   "nbconvert_exporter": "python",
   "pygments_lexer": "ipython2",
   "version": "2.7.13"
  }
 },
 "nbformat": 4,
 "nbformat_minor": 2
}
