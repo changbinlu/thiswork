{
 "cells": [
  {
   "cell_type": "code",
   "execution_count": 11,
   "metadata": {},
   "outputs": [],
   "source": [
    "import io\n",
    "import re\n",
    "import nltk\n",
    "import chardet\n",
    "from nltk.tokenize import word_tokenize\n",
    "from nltk.corpus import stopwords\n",
    "import string\n",
    "import sys\n",
    "stop_words = set(stopwords.words(\"english\"))\n",
    "\n",
    "from nltk.stem import WordNetLemmatizer\n",
    "def str_tuple(t, encoding=\"utf8\"):\n",
    "    return tuple([i.encode(encoding) for i in t])\n",
    "def hasNumbers(inputString):\n",
    "    return bool(re.search(r'\\d', inputString))\n",
    "def freq(line_split):\n",
    "    fredist = nltk.FreqDist(line_split)\n",
    "    for localkey in fredist.keys():\n",
    "        encoding = chardet.detect(localkey)\n",
    "        if encoding['encoding'] != 'ascii':\n",
    "            continue\n",
    "        localkey = lmtzr.lemmatize(localkey)\n",
    "        if localkey in dictionary.keys():\n",
    "            dictionary[localkey] = dictionary[localkey] + fredist[localkey] # 如果存在，将词频累加，并更新字典值\n",
    "        else: # 如果字典中不存在\n",
    "            dictionary[localkey] = fredist[localkey] # 将当前词频添加到字典中\n",
    "    \n",
    "lemmatizer = WordNetLemmatizer()\n",
    "punctuation = [\"''\",\"``\",\"I\",\"My\",\"A\",'may','Get','The','It','one','get','one','This','If','In','see',\n",
    "              'like','much','use','using','also','need','go','We','often','many','first','You','best',\n",
    "               'would','make','want','way','even','still','As']\n",
    "f = io.open('nature.txt','r',encoding='utf-8')\n",
    "lines = f.readlines()\n",
    "lmtzr = WordNetLemmatizer()\n",
    "# f1 = io.open('nature_result.txt','w')\n",
    "dictionary = {}    \n",
    "for line in lines:\n",
    "    example_words = word_tokenize(line.lower())\n",
    "    example_words = filter(lambda x: x not in string.punctuation, example_words)\n",
    "    example_words = filter(lambda x: x not in punctuation, example_words)\n",
    "    cleaned_text = filter(lambda x: x not in stop_words, example_words)\n",
    "    cleaned_text = filter(lambda x: hasNumbers(x)!=True, cleaned_text)\n",
    "#     cleaned_text = filter(lambda x: \"'\\'\" not in x, cleaned_text)\n",
    "#     if len( cleaned_text)==0:\n",
    "#         continue;\n",
    "#     print(str_tuple( cleaned_text))\n",
    "    freq(str_tuple( cleaned_text))\n",
    "\n",
    "a = sorted(dictionary.items(), key = lambda  x:x[1],reverse=True)\n",
    "f = open('nature_result.txt','w')\n",
    "for item in a:\n",
    "    f.write(\"%s %d\\n\" % item)\n",
    "f.close()"
   ]
  },
  {
   "cell_type": "code",
   "execution_count": null,
   "metadata": {
    "scrolled": false
   },
   "outputs": [],
   "source": []
  },
  {
   "cell_type": "code",
   "execution_count": 22,
   "metadata": {},
   "outputs": [],
   "source": []
  }
 ],
 "metadata": {
  "kernelspec": {
   "display_name": "Python 3",
   "language": "python",
   "name": "python3"
  },
  "language_info": {
   "codemirror_mode": {
    "name": "ipython",
    "version": 2
   },
   "file_extension": ".py",
   "mimetype": "text/x-python",
   "name": "python",
   "nbconvert_exporter": "python",
   "pygments_lexer": "ipython2",
   "version": "2.7.13"
  }
 },
 "nbformat": 4,
 "nbformat_minor": 2
}
