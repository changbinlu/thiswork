{
 "cells": [
  {
   "cell_type": "code",
   "execution_count": 1,
   "metadata": {
    "collapsed": true
   },
   "outputs": [],
   "source": [
    "from PyDictionary import PyDictionary\n",
    "dictionary=PyDictionary()\n",
    "a = dictionary.synonym(\"post-processing\")\n",
    "a\n"
   ]
  },
  {
   "cell_type": "code",
   "execution_count": null,
   "metadata": {
    "collapsed": true
   },
   "outputs": [],
   "source": []
  },
  {
   "cell_type": "code",
   "execution_count": null,
   "metadata": {},
   "outputs": [],
   "source": []
  },
  {
   "cell_type": "code",
   "execution_count": 10,
   "metadata": {},
   "outputs": [
    {
     "name": "stderr",
     "output_type": "stream",
     "text": [
      "Skipping line 74: expected 12 fields, saw 17\n",
      "Skipping line 811: expected 12 fields, saw 13\n",
      "Skipping line 2594: expected 12 fields, saw 15\n",
      "Skipping line 4318: expected 12 fields, saw 15\n",
      "\n",
      "Skipping line 74: expected 12 fields, saw 17\n",
      "Skipping line 811: expected 12 fields, saw 13\n",
      "Skipping line 2594: expected 12 fields, saw 15\n",
      "Skipping line 4318: expected 12 fields, saw 15\n",
      "\n",
      "/ 0 Elapsed Time: 0:00:00                                                      /usr/local/lib/python2.7/dist-packages/ipykernel_launcher.py:13: SettingWithCopyWarning: \n",
      "A value is trying to be set on a copy of a slice from a DataFrame\n",
      "\n",
      "See the caveats in the documentation: http://pandas.pydata.org/pandas-docs/stable/indexing.html#indexing-view-versus-copy\n",
      "  del sys.path[0]\n",
      "| 4454 Elapsed Time: 0:38:23                                                   \n"
     ]
    }
   ],
   "source": [
    "import time\n",
    "import progressbar\n",
    "import pandas as pd\n",
    "bar = progressbar.ProgressBar()\n",
    "df = pd.read_csv('4900.txt', error_bad_lines=False)\n",
    "df1 = pd.read_csv('4900.txt', error_bad_lines=False)\n",
    "for index,rows in bar(df.iterrows()):\n",
    "#     print(index)\n",
    "    bag = [df['s0'][index],df['s1'][index],df['s2'][index],df['s3'][index],df['s4'][index],\n",
    "          df['s5'][index],df['s6'][index],df['s7'][index],df['s8'][index],df['s9'][index]]\n",
    "    for index1,rows1 in df1.iterrows():\n",
    "        if df1['word'][index1] in bag:\n",
    "            df['freq'][index] = int(df['freq'][index]) + int(df1['freq'][index1])\n",
    "            df.drop(df.index[index1])\n",
    "#             print(df['word'][index],df['word'][index1])\n",
    "\n",
    "df.to_csv('GoogleModelMergeResult1.csv')"
   ]
  },
  {
   "cell_type": "code",
   "execution_count": 22,
   "metadata": {},
   "outputs": [
    {
     "data": {
      "text/plain": [
       "(4455, 12)"
      ]
     },
     "execution_count": 22,
     "metadata": {},
     "output_type": "execute_result"
    }
   ],
   "source": [
    "df.shape"
   ]
  },
  {
   "cell_type": "code",
   "execution_count": 5,
   "metadata": {
    "collapsed": true
   },
   "outputs": [],
   "source": [
    "df.to_csv('GoogleModelMergeResult1.csv')"
   ]
  },
  {
   "cell_type": "code",
   "execution_count": null,
   "metadata": {
    "collapsed": true
   },
   "outputs": [],
   "source": []
  }
 ],
 "metadata": {
  "kernelspec": {
   "display_name": "Python 2",
   "language": "python",
   "name": "python2"
  },
  "language_info": {
   "codemirror_mode": {
    "name": "ipython",
    "version": 2
   },
   "file_extension": ".py",
   "mimetype": "text/x-python",
   "name": "python",
   "nbconvert_exporter": "python",
   "pygments_lexer": "ipython2",
   "version": "2.7.13"
  }
 },
 "nbformat": 4,
 "nbformat_minor": 2
}
